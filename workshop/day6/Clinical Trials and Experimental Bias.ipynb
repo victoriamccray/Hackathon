{
 "cells": [
  {
   "cell_type": "markdown",
   "id": "db6a98dd",
   "metadata": {},
   "source": [
    "## Clinical Trial and Experimental Bias: Detection and Attrition\n",
    "\n",
    "### Author: Victoria McCray"
   ]
  },
  {
   "cell_type": "code",
   "execution_count": 1,
   "id": "836a853f",
   "metadata": {},
   "outputs": [
    {
     "name": "stdout",
     "output_type": "stream",
     "text": [
      "Last Updated: 2025-02-25\n"
     ]
    }
   ],
   "source": [
    "import datetime\n",
    "\n",
    "current_date = datetime.date.today()\n",
    "\n",
    "print(\"Last Updated:\", current_date)"
   ]
  },
  {
   "cell_type": "markdown",
   "id": "399d88bf",
   "metadata": {},
   "source": [
    "## Detection Bias\n",
    "\n",
    "Detection bias occurs when there is a systematic difference in how outcomes are measured between groups. For example, if one group is more likely to have outcomes measured in a certain way that exaggerates results.\n",
    "\n",
    "## Example\n",
    "A study measuring cognitive function in patients with neurodegenerative diseases may be biased if some participants undergo more frequent or detailed cognitive testing than others.\n",
    "\n",
    "\n",
    "\n",
    "## Mitigation\n",
    "Implement *blinding* during data collection:\n",
    "\n",
    "- **Blinding**: The experimenters, including those who analyze the data, should be blinded to the group assignments.\n",
    "- **Randomization**: Randomly assign participants to treatment or control groups to minimize selection bias, which could otherwise confound the results.\n",
    "- **Stage for Breaking Blinding**: Define the stage at which the blinding codes will be broken (e.g., after data analysis), ensuring that bias is minimized throughout the study.\n",
    "- **Blinding Protocol**: The protocol should clearly define at what stage the blinding codes will be broken—ideally, only after all data has been analyzed."
   ]
  },
  {
   "cell_type": "code",
   "execution_count": 2,
   "id": "e367d60c",
   "metadata": {},
   "outputs": [],
   "source": [
    "import pandas as pd\n",
    "import numpy as np\n",
    "import random\n",
    "import seaborn as sns\n",
    "import matplotlib.pyplot as plt\n",
    "\n",
    "# Seed for reproducibility\n",
    "random.seed(42)\n",
    "\n",
    "# Number of participants\n",
    "n_participants = 100\n",
    "\n",
    "# Create a list of participant IDs\n",
    "participants = [f\"Participant_{i+1}\" for i in range(n_participants)]\n",
    "\n",
    "# Step 1: Randomly assign participants to Treatment or Control\n",
    "# Randomly shuffle a list of treatment and control labels\n",
    "groups = ['Treatment'] * (n_participants // 2) + ['Control'] * (n_participants // 2)\n",
    "random.shuffle(groups)\n",
    "\n"
   ]
  },
  {
   "cell_type": "code",
   "execution_count": 3,
   "id": "e968640f",
   "metadata": {},
   "outputs": [
    {
     "name": "stdout",
     "output_type": "stream",
     "text": [
      "Step 4: Blind the experimenter (they cannot know who belongs to which group)\n"
     ]
    },
    {
     "data": {
      "text/html": [
       "<div>\n",
       "<style scoped>\n",
       "    .dataframe tbody tr th:only-of-type {\n",
       "        vertical-align: middle;\n",
       "    }\n",
       "\n",
       "    .dataframe tbody tr th {\n",
       "        vertical-align: top;\n",
       "    }\n",
       "\n",
       "    .dataframe thead th {\n",
       "        text-align: right;\n",
       "    }\n",
       "</style>\n",
       "<table border=\"1\" class=\"dataframe\">\n",
       "  <thead>\n",
       "    <tr style=\"text-align: right;\">\n",
       "      <th></th>\n",
       "      <th>Participant</th>\n",
       "      <th>Group</th>\n",
       "      <th>Outcome</th>\n",
       "      <th>Blinded_Group</th>\n",
       "    </tr>\n",
       "  </thead>\n",
       "  <tbody>\n",
       "    <tr>\n",
       "      <th>0</th>\n",
       "      <td>Participant_1</td>\n",
       "      <td>Treatment</td>\n",
       "      <td>76.088347</td>\n",
       "      <td>Unknown</td>\n",
       "    </tr>\n",
       "    <tr>\n",
       "      <th>1</th>\n",
       "      <td>Participant_2</td>\n",
       "      <td>Treatment</td>\n",
       "      <td>82.645521</td>\n",
       "      <td>Unknown</td>\n",
       "    </tr>\n",
       "    <tr>\n",
       "      <th>2</th>\n",
       "      <td>Participant_3</td>\n",
       "      <td>Control</td>\n",
       "      <td>83.818400</td>\n",
       "      <td>Unknown</td>\n",
       "    </tr>\n",
       "    <tr>\n",
       "      <th>3</th>\n",
       "      <td>Participant_4</td>\n",
       "      <td>Treatment</td>\n",
       "      <td>78.468526</td>\n",
       "      <td>Unknown</td>\n",
       "    </tr>\n",
       "    <tr>\n",
       "      <th>4</th>\n",
       "      <td>Participant_5</td>\n",
       "      <td>Control</td>\n",
       "      <td>80.420080</td>\n",
       "      <td>Unknown</td>\n",
       "    </tr>\n",
       "  </tbody>\n",
       "</table>\n",
       "</div>"
      ],
      "text/plain": [
       "     Participant      Group    Outcome Blinded_Group\n",
       "0  Participant_1  Treatment  76.088347       Unknown\n",
       "1  Participant_2  Treatment  82.645521       Unknown\n",
       "2  Participant_3    Control  83.818400       Unknown\n",
       "3  Participant_4  Treatment  78.468526       Unknown\n",
       "4  Participant_5    Control  80.420080       Unknown"
      ]
     },
     "execution_count": 3,
     "metadata": {},
     "output_type": "execute_result"
    }
   ],
   "source": [
    "# Step 2: Create DataFrame\n",
    "df = pd.DataFrame({\n",
    "    'Participant': participants,\n",
    "    'Group': groups\n",
    "})\n",
    "\n",
    "# Step 3: Simulate outcomes for each participant (e.g., cognitive scores)\n",
    "# Simulate some baseline scores for treatment and control\n",
    "treatment_outcome = np.random.normal(80, 10, n_participants // 2)  # Treatment group scores\n",
    "control_outcome = np.random.normal(75, 10, n_participants // 2)    # Control group scores\n",
    "\n",
    "# Assign scores to DataFrame\n",
    "df.loc[df['Group'] == 'Treatment', 'Outcome'] = treatment_outcome\n",
    "df.loc[df['Group'] == 'Control', 'Outcome'] = control_outcome\n",
    "\n",
    "print(\"Step 4: Blind the experimenter (they cannot know who belongs to which group)\")\n",
    "# We simulate the \"blinded\" experimenter by creating a new column where the group label is hidden.\n",
    "# This represents the experimenter's perspective during outcome measurement.\n",
    "df['Blinded_Group'] = np.where(df['Group'] == 'Treatment', 'Unknown', 'Unknown')\n",
    "# Display the first few rows of the dataframe\n",
    "blind = df.head()\n",
    "blind"
   ]
  },
  {
   "cell_type": "code",
   "execution_count": 4,
   "id": "02cb6562",
   "metadata": {
    "scrolled": true
   },
   "outputs": [
    {
     "name": "stdout",
     "output_type": "stream",
     "text": [
      "Step 5: Data Analysis (after blinding is broken)\n"
     ]
    },
    {
     "data": {
      "text/html": [
       "<div>\n",
       "<style scoped>\n",
       "    .dataframe tbody tr th:only-of-type {\n",
       "        vertical-align: middle;\n",
       "    }\n",
       "\n",
       "    .dataframe tbody tr th {\n",
       "        vertical-align: top;\n",
       "    }\n",
       "\n",
       "    .dataframe thead th {\n",
       "        text-align: right;\n",
       "    }\n",
       "</style>\n",
       "<table border=\"1\" class=\"dataframe\">\n",
       "  <thead>\n",
       "    <tr style=\"text-align: right;\">\n",
       "      <th></th>\n",
       "      <th>Participant</th>\n",
       "      <th>Group</th>\n",
       "      <th>Outcome</th>\n",
       "      <th>Blinded_Group</th>\n",
       "    </tr>\n",
       "  </thead>\n",
       "  <tbody>\n",
       "    <tr>\n",
       "      <th>0</th>\n",
       "      <td>Participant_1</td>\n",
       "      <td>Treatment</td>\n",
       "      <td>76.088347</td>\n",
       "      <td>Treatment</td>\n",
       "    </tr>\n",
       "    <tr>\n",
       "      <th>1</th>\n",
       "      <td>Participant_2</td>\n",
       "      <td>Treatment</td>\n",
       "      <td>82.645521</td>\n",
       "      <td>Treatment</td>\n",
       "    </tr>\n",
       "    <tr>\n",
       "      <th>2</th>\n",
       "      <td>Participant_3</td>\n",
       "      <td>Control</td>\n",
       "      <td>83.818400</td>\n",
       "      <td>Control</td>\n",
       "    </tr>\n",
       "    <tr>\n",
       "      <th>3</th>\n",
       "      <td>Participant_4</td>\n",
       "      <td>Treatment</td>\n",
       "      <td>78.468526</td>\n",
       "      <td>Treatment</td>\n",
       "    </tr>\n",
       "    <tr>\n",
       "      <th>4</th>\n",
       "      <td>Participant_5</td>\n",
       "      <td>Control</td>\n",
       "      <td>80.420080</td>\n",
       "      <td>Control</td>\n",
       "    </tr>\n",
       "  </tbody>\n",
       "</table>\n",
       "</div>"
      ],
      "text/plain": [
       "     Participant      Group    Outcome Blinded_Group\n",
       "0  Participant_1  Treatment  76.088347     Treatment\n",
       "1  Participant_2  Treatment  82.645521     Treatment\n",
       "2  Participant_3    Control  83.818400       Control\n",
       "3  Participant_4  Treatment  78.468526     Treatment\n",
       "4  Participant_5    Control  80.420080       Control"
      ]
     },
     "execution_count": 4,
     "metadata": {},
     "output_type": "execute_result"
    }
   ],
   "source": [
    "print(\"Step 5: Data Analysis (after blinding is broken)\")\n",
    "# After the data is collected, the experimenter can now see the group labels.\n",
    "df['Blinded_Group'] = df['Group']  # \"Breaking the blind\" after analysis\n",
    "\n",
    "# Display the first few rows of the broken blind dataframe\n",
    "broken_blind = df.head()\n",
    "broken_blind\n"
   ]
  },
  {
   "cell_type": "markdown",
   "id": "28b5b2eb",
   "metadata": {},
   "source": [
    "## Attrition Bias\n"
   ]
  },
  {
   "cell_type": "markdown",
   "id": "6ff8c4ee",
   "metadata": {},
   "source": [
    "### Simulating Attrition Bias in a Study\n",
    "\n",
    "In this section, we simulate a clinical trial with 100 participants, split into two groups: Treatment and Control. We then simulate baseline outcome scores for each group. Afterward, we introduce attrition bias by randomly dropping out 20% of the participants.\n",
    "\n",
    "1. Simulating Participant Data and Randomization\n",
    "We first define the number of participants, generate random baseline outcome scores, and assign participants to either the Treatment or Control group.\n",
    "\n",
    "### Example: Internal Validity\n",
    "In your study, many more participants drop out of the treatment group than the control group. \n",
    "\n",
    "For the participants who stay, the treatment is more successful than the control protocol in encouraging responsible alcohol use.\n",
    "\n",
    "But it’s hard to form a conclusion, because you don’t know what the outcomes were for the participants who left the treatment group.\n",
    "\n",
    "### Example: External Validity\n",
    "\n",
    "Most of the participants who drop out from your study consume much more alcohol than those who stay. They leave because they aren’t satisfied with the program.\n",
    "Your final sample is skewed towards college students who consume low-to-moderate amounts of alcohol.\n",
    "\n",
    "Your findings aren’t applicable to all college students, because your sample underrepresents those who drink large amounts of alcohol."
   ]
  },
  {
   "cell_type": "markdown",
   "id": "7285ff58",
   "metadata": {},
   "source": [
    "### Preventing Attrition Bias\n",
    "- Increase accessibility of participation\n",
    "- Conduct outreach tailored for protected populations\n",
    "- Increase benefits, compensation, and motivational offerings to participants when feasible"
   ]
  },
  {
   "cell_type": "code",
   "execution_count": 5,
   "id": "f6ba02ee",
   "metadata": {},
   "outputs": [],
   "source": [
    "import pandas as pd\n",
    "import numpy as np\n",
    "import random\n",
    "import seaborn as sns\n",
    "import matplotlib.pyplot as plt\n",
    "from sklearn.impute import SimpleImputer"
   ]
  },
  {
   "cell_type": "code",
   "execution_count": 6,
   "id": "62800be4",
   "metadata": {},
   "outputs": [],
   "source": [
    "# Seed for reproducibility\n",
    "random.seed(42)\n",
    "\n",
    "# Number of participants\n",
    "n_participants = 150\n",
    "\n",
    "# Create a list of participant IDs\n",
    "participants = [f\"Participant_{i+1}\" for i in range(n_participants)]\n",
    "\n",
    "# Randomly assign participants to Treatment or Control\n",
    "groups = ['Treatment'] * (n_participants // 2) + ['Control'] * (n_participants // 2)\n",
    "random.shuffle(groups)\n",
    "\n",
    "# Simulate baseline outcome scores (before attrition occurs)\n",
    "treatment_outcome = np.random.normal(80, 10, n_participants // 2)  # Treatment group scores\n",
    "control_outcome = np.random.normal(75, 10, n_participants // 2)    # Control group scores\n",
    "\n",
    "# Create DataFrame\n",
    "df = pd.DataFrame({\n",
    "    'Participant': participants,\n",
    "    'Group': groups\n",
    "})\n",
    "\n",
    "# Assign outcomes\n",
    "df.loc[df['Group'] == 'Treatment', 'Outcome'] = treatment_outcome\n",
    "df.loc[df['Group'] == 'Control', 'Outcome'] = control_outcome"
   ]
  },
  {
   "cell_type": "code",
   "execution_count": 7,
   "id": "aab3a3e2",
   "metadata": {},
   "outputs": [
    {
     "data": {
      "text/plain": [
       "150"
      ]
     },
     "execution_count": 7,
     "metadata": {},
     "output_type": "execute_result"
    }
   ],
   "source": [
    "# initial row count (number of participants)\n",
    "len(df)"
   ]
  },
  {
   "cell_type": "code",
   "execution_count": 8,
   "id": "adf16cb6",
   "metadata": {
    "scrolled": true
   },
   "outputs": [
    {
     "name": "stdout",
     "output_type": "stream",
     "text": [
      "120\n"
     ]
    }
   ],
   "source": [
    "# Initialize dataset before simulated drop out\n",
    "before_df = df\n",
    "\n",
    "# Randomly sample 20% of the DataFrame's index\n",
    "drop_indices = df.sample(frac=0.2).index\n",
    "\n",
    "# Drop the sampled indices from the DataFrame\n",
    "after_df = df.drop(drop_indices)\n",
    "\n",
    "# The DataFrame now has 20% fewer rows\n",
    "print(len(after_df))"
   ]
  },
  {
   "cell_type": "code",
   "execution_count": 9,
   "id": "fcdbb384",
   "metadata": {
    "scrolled": true
   },
   "outputs": [
    {
     "name": "stdout",
     "output_type": "stream",
     "text": [
      "Row Count before Simulated Drop Out: 150\n"
     ]
    },
    {
     "data": {
      "text/html": [
       "<div>\n",
       "<style scoped>\n",
       "    .dataframe tbody tr th:only-of-type {\n",
       "        vertical-align: middle;\n",
       "    }\n",
       "\n",
       "    .dataframe tbody tr th {\n",
       "        vertical-align: top;\n",
       "    }\n",
       "\n",
       "    .dataframe thead th {\n",
       "        text-align: right;\n",
       "    }\n",
       "</style>\n",
       "<table border=\"1\" class=\"dataframe\">\n",
       "  <thead>\n",
       "    <tr style=\"text-align: right;\">\n",
       "      <th></th>\n",
       "      <th>Participant</th>\n",
       "      <th>Group</th>\n",
       "      <th>Outcome</th>\n",
       "    </tr>\n",
       "  </thead>\n",
       "  <tbody>\n",
       "    <tr>\n",
       "      <th>0</th>\n",
       "      <td>Participant_1</td>\n",
       "      <td>Treatment</td>\n",
       "      <td>61.077011</td>\n",
       "    </tr>\n",
       "    <tr>\n",
       "      <th>1</th>\n",
       "      <td>Participant_2</td>\n",
       "      <td>Control</td>\n",
       "      <td>89.345540</td>\n",
       "    </tr>\n",
       "    <tr>\n",
       "      <th>2</th>\n",
       "      <td>Participant_3</td>\n",
       "      <td>Control</td>\n",
       "      <td>74.700179</td>\n",
       "    </tr>\n",
       "    <tr>\n",
       "      <th>3</th>\n",
       "      <td>Participant_4</td>\n",
       "      <td>Control</td>\n",
       "      <td>55.779368</td>\n",
       "    </tr>\n",
       "    <tr>\n",
       "      <th>4</th>\n",
       "      <td>Participant_5</td>\n",
       "      <td>Control</td>\n",
       "      <td>67.398284</td>\n",
       "    </tr>\n",
       "    <tr>\n",
       "      <th>...</th>\n",
       "      <td>...</td>\n",
       "      <td>...</td>\n",
       "      <td>...</td>\n",
       "    </tr>\n",
       "    <tr>\n",
       "      <th>145</th>\n",
       "      <td>Participant_146</td>\n",
       "      <td>Treatment</td>\n",
       "      <td>87.699242</td>\n",
       "    </tr>\n",
       "    <tr>\n",
       "      <th>146</th>\n",
       "      <td>Participant_147</td>\n",
       "      <td>Treatment</td>\n",
       "      <td>99.450725</td>\n",
       "    </tr>\n",
       "    <tr>\n",
       "      <th>147</th>\n",
       "      <td>Participant_148</td>\n",
       "      <td>Treatment</td>\n",
       "      <td>73.285100</td>\n",
       "    </tr>\n",
       "    <tr>\n",
       "      <th>148</th>\n",
       "      <td>Participant_149</td>\n",
       "      <td>Treatment</td>\n",
       "      <td>73.503686</td>\n",
       "    </tr>\n",
       "    <tr>\n",
       "      <th>149</th>\n",
       "      <td>Participant_150</td>\n",
       "      <td>Treatment</td>\n",
       "      <td>94.562271</td>\n",
       "    </tr>\n",
       "  </tbody>\n",
       "</table>\n",
       "<p>150 rows × 3 columns</p>\n",
       "</div>"
      ],
      "text/plain": [
       "         Participant      Group    Outcome\n",
       "0      Participant_1  Treatment  61.077011\n",
       "1      Participant_2    Control  89.345540\n",
       "2      Participant_3    Control  74.700179\n",
       "3      Participant_4    Control  55.779368\n",
       "4      Participant_5    Control  67.398284\n",
       "..               ...        ...        ...\n",
       "145  Participant_146  Treatment  87.699242\n",
       "146  Participant_147  Treatment  99.450725\n",
       "147  Participant_148  Treatment  73.285100\n",
       "148  Participant_149  Treatment  73.503686\n",
       "149  Participant_150  Treatment  94.562271\n",
       "\n",
       "[150 rows x 3 columns]"
      ]
     },
     "execution_count": 9,
     "metadata": {},
     "output_type": "execute_result"
    }
   ],
   "source": [
    "print(\"Row Count before Simulated Drop Out:\", len(before_df))\n",
    "before_df"
   ]
  },
  {
   "cell_type": "code",
   "execution_count": 10,
   "id": "c77a8069",
   "metadata": {},
   "outputs": [
    {
     "name": "stdout",
     "output_type": "stream",
     "text": [
      "Row Count after Simulated Drop Out: 120\n"
     ]
    },
    {
     "data": {
      "text/html": [
       "<div>\n",
       "<style scoped>\n",
       "    .dataframe tbody tr th:only-of-type {\n",
       "        vertical-align: middle;\n",
       "    }\n",
       "\n",
       "    .dataframe tbody tr th {\n",
       "        vertical-align: top;\n",
       "    }\n",
       "\n",
       "    .dataframe thead th {\n",
       "        text-align: right;\n",
       "    }\n",
       "</style>\n",
       "<table border=\"1\" class=\"dataframe\">\n",
       "  <thead>\n",
       "    <tr style=\"text-align: right;\">\n",
       "      <th></th>\n",
       "      <th>Participant</th>\n",
       "      <th>Group</th>\n",
       "      <th>Outcome</th>\n",
       "    </tr>\n",
       "  </thead>\n",
       "  <tbody>\n",
       "    <tr>\n",
       "      <th>0</th>\n",
       "      <td>Participant_1</td>\n",
       "      <td>Treatment</td>\n",
       "      <td>61.077011</td>\n",
       "    </tr>\n",
       "    <tr>\n",
       "      <th>1</th>\n",
       "      <td>Participant_2</td>\n",
       "      <td>Control</td>\n",
       "      <td>89.345540</td>\n",
       "    </tr>\n",
       "    <tr>\n",
       "      <th>3</th>\n",
       "      <td>Participant_4</td>\n",
       "      <td>Control</td>\n",
       "      <td>55.779368</td>\n",
       "    </tr>\n",
       "    <tr>\n",
       "      <th>4</th>\n",
       "      <td>Participant_5</td>\n",
       "      <td>Control</td>\n",
       "      <td>67.398284</td>\n",
       "    </tr>\n",
       "    <tr>\n",
       "      <th>6</th>\n",
       "      <td>Participant_7</td>\n",
       "      <td>Control</td>\n",
       "      <td>79.859062</td>\n",
       "    </tr>\n",
       "    <tr>\n",
       "      <th>...</th>\n",
       "      <td>...</td>\n",
       "      <td>...</td>\n",
       "      <td>...</td>\n",
       "    </tr>\n",
       "    <tr>\n",
       "      <th>142</th>\n",
       "      <td>Participant_143</td>\n",
       "      <td>Control</td>\n",
       "      <td>57.503796</td>\n",
       "    </tr>\n",
       "    <tr>\n",
       "      <th>143</th>\n",
       "      <td>Participant_144</td>\n",
       "      <td>Treatment</td>\n",
       "      <td>88.072925</td>\n",
       "    </tr>\n",
       "    <tr>\n",
       "      <th>147</th>\n",
       "      <td>Participant_148</td>\n",
       "      <td>Treatment</td>\n",
       "      <td>73.285100</td>\n",
       "    </tr>\n",
       "    <tr>\n",
       "      <th>148</th>\n",
       "      <td>Participant_149</td>\n",
       "      <td>Treatment</td>\n",
       "      <td>73.503686</td>\n",
       "    </tr>\n",
       "    <tr>\n",
       "      <th>149</th>\n",
       "      <td>Participant_150</td>\n",
       "      <td>Treatment</td>\n",
       "      <td>94.562271</td>\n",
       "    </tr>\n",
       "  </tbody>\n",
       "</table>\n",
       "<p>120 rows × 3 columns</p>\n",
       "</div>"
      ],
      "text/plain": [
       "         Participant      Group    Outcome\n",
       "0      Participant_1  Treatment  61.077011\n",
       "1      Participant_2    Control  89.345540\n",
       "3      Participant_4    Control  55.779368\n",
       "4      Participant_5    Control  67.398284\n",
       "6      Participant_7    Control  79.859062\n",
       "..               ...        ...        ...\n",
       "142  Participant_143    Control  57.503796\n",
       "143  Participant_144  Treatment  88.072925\n",
       "147  Participant_148  Treatment  73.285100\n",
       "148  Participant_149  Treatment  73.503686\n",
       "149  Participant_150  Treatment  94.562271\n",
       "\n",
       "[120 rows x 3 columns]"
      ]
     },
     "execution_count": 10,
     "metadata": {},
     "output_type": "execute_result"
    }
   ],
   "source": [
    "print(\"Row Count after Simulated Drop Out:\", len(after_df))\n",
    "after_df"
   ]
  },
  {
   "cell_type": "markdown",
   "id": "9dbf1f9b",
   "metadata": {},
   "source": [
    "But we don't want to drop them (therefore introducing bias); instead we can impute the missing values using measures of central tendency."
   ]
  },
  {
   "cell_type": "code",
   "execution_count": 11,
   "id": "499583de",
   "metadata": {},
   "outputs": [
    {
     "name": "stdout",
     "output_type": "stream",
     "text": [
      "Total participants in after_df: 150\n",
      "Number of missing outcomes (dropped out participants): 30\n"
     ]
    }
   ],
   "source": [
    "# Step 1: Simulate Attrition by assigning NaN instead of dropping\n",
    "drop_indices = df.sample(frac=0.2, random_state=42).index  # Randomly select 20% of participants\n",
    "df.loc[drop_indices, 'Outcome'] = np.nan  # Assign NaN to 'Outcome' instead of dropping\n",
    "\n",
    "# Step 2: Create a new DataFrame after attrition (still includes all participants)\n",
    "after_df = before_df.copy()  # Copy dataset with missing outcomes instead of dropping rows\n",
    "\n",
    "# Print results\n",
    "print(f\"Total participants in after_df: {len(after_df)}\")  # Should still be 150\n",
    "print(f\"Number of missing outcomes (dropped out participants): {after_df['Outcome'].isna().sum()}\")"
   ]
  },
  {
   "cell_type": "code",
   "execution_count": 12,
   "id": "1f7681e7",
   "metadata": {},
   "outputs": [
    {
     "data": {
      "text/plain": [
       "array([ 61.07701096,  89.34554019,  74.70017942,  55.77936797,\n",
       "        67.39828409,  82.15132966,  79.85906216,  71.57046762,\n",
       "        74.38125542,          nan,  66.73157125,  55.12388429,\n",
       "        66.99197435,  74.57895176,  80.01339067,  73.33451791,\n",
       "        80.97938629,  59.90036197,  79.37598137,  72.42189306,\n",
       "        76.99045799,  75.44915337,  64.1368751 ,  75.96609569,\n",
       "        91.08504681,  68.58407373,  79.90393517,  78.79293884,\n",
       "        95.3045008 ,  81.48100707,  78.28804266,  80.74360111,\n",
       "        81.20513366,  69.0057795 ,  63.39130012,  83.24919007,\n",
       "        58.78621189,  83.40917602,  58.48344606,  69.37109339,\n",
       "       100.53373799,  83.60284835,  71.16363928,  57.63513294,\n",
       "        89.75432349,  93.33062466,  73.7545119 ,  75.87044019,\n",
       "        98.21787808,  75.23139931,  86.79657973,  71.91247852,\n",
       "        74.94179569,  79.51962716,  78.07193479,  72.59745968,\n",
       "        70.70058685,  54.09677145,  74.48312375,  74.28618999,\n",
       "        80.89630968,  81.72963674,  52.70177404,  62.69091831,\n",
       "        68.82982011,  87.86671268,  79.77862074,  88.65576912,\n",
       "        84.60834722,  69.65314205,  90.33931926,  79.12271167,\n",
       "        62.45680926,  64.05199251,  77.74219707,  93.38455207,\n",
       "        69.11200517,  64.61876784,  76.46105731,  84.96132245,\n",
       "        81.67176464,  77.38568665,  74.15636391,  72.24099935,\n",
       "        91.86170159,  69.54394774,  87.11543522,  79.77837033,\n",
       "        80.05716224,  88.71862059,  62.82511955,  49.42125324,\n",
       "        85.5773675 ,  86.94528335,  85.26830458,  78.86633223,\n",
       "        77.41399357,  73.14636283,  65.04118264,  75.63042763,\n",
       "        98.60942007,  65.33251868,  88.89970957,  84.14425478,\n",
       "        61.78676131,  92.56934946,  65.78088415,  79.20047504,\n",
       "        60.08285014,  87.37271409,  94.73696551,  83.40182721,\n",
       "        80.14142608,  83.90503994,  90.0796878 ,  57.50379586,\n",
       "        76.46829985,  99.45072498,  73.28510045,  73.50368566,\n",
       "        94.56227122])"
      ]
     },
     "execution_count": 12,
     "metadata": {},
     "output_type": "execute_result"
    }
   ],
   "source": [
    "# Impute missing data using SimpleImputer (mean imputation for simplicity)\n",
    "imputer = SimpleImputer(strategy='median')\n",
    "after_df['Imputed_Outcome'] = imputer.fit_transform(after_df[['Outcome']])\n",
    "\n",
    "# Display imputed outcomes\n",
    "after_df[['Outcome','Imputed_Outcome']]\n",
    "before_df['Outcome'].unique()"
   ]
  },
  {
   "cell_type": "markdown",
   "id": "a4315163",
   "metadata": {},
   "source": [
    "## Works Cited\n",
    "Bhandari, P. (2021, November 1). Attrition bias in research. Scribbr. https://www.scribbr.com/research-bias/attrition-bias/\n",
    "\n",
    "## Additional Resources\n",
    "\n",
    "Attrition Bias:\n",
    "https://www.scribbr.com/research-bias/attrition-bias/#:~:text=If%20you%20have%20a%20small%20amount%20of%20attrition%20bias%2C%20you,of%20participants%20in%20your%20sample.\n",
    "\n",
    "An Easy Introduction to Statistical Significance (With Examples): https://www.scribbr.com/statistics/statistical-significance/"
   ]
  }
 ],
 "metadata": {
  "kernelspec": {
   "display_name": "Python 3 (ipykernel)",
   "language": "python",
   "name": "python3"
  },
  "language_info": {
   "codemirror_mode": {
    "name": "ipython",
    "version": 3
   },
   "file_extension": ".py",
   "mimetype": "text/x-python",
   "name": "python",
   "nbconvert_exporter": "python",
   "pygments_lexer": "ipython3",
   "version": "3.10.9"
  }
 },
 "nbformat": 4,
 "nbformat_minor": 5
}
