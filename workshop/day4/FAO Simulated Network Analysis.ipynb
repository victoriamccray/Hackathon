{
 "cells": [
  {
   "cell_type": "markdown",
   "id": "a13ee435",
   "metadata": {},
   "source": [
    "## Network Analysis Implementation\n",
    "\n",
    "### Author: Victoria McCray"
   ]
  },
  {
   "cell_type": "code",
   "execution_count": 1,
   "id": "e244ba03",
   "metadata": {},
   "outputs": [
    {
     "name": "stdout",
     "output_type": "stream",
     "text": [
      "Last Updated: 2025-02-24\n"
     ]
    }
   ],
   "source": [
    "import datetime\n",
    "\n",
    "current_date = datetime.date.today()\n",
    "\n",
    "print(\"Last Updated:\", current_date)"
   ]
  },
  {
   "cell_type": "code",
   "execution_count": 1,
   "id": "718dca81",
   "metadata": {},
   "outputs": [],
   "source": [
    "import pandas as pd\n",
    "import networkx as nx\n",
    "import matplotlib.pyplot as plt"
   ]
  },
  {
   "cell_type": "code",
   "execution_count": 8,
   "id": "1b89521e",
   "metadata": {
    "scrolled": true
   },
   "outputs": [
    {
     "data": {
      "text/html": [
       "<div>\n",
       "<style scoped>\n",
       "    .dataframe tbody tr th:only-of-type {\n",
       "        vertical-align: middle;\n",
       "    }\n",
       "\n",
       "    .dataframe tbody tr th {\n",
       "        vertical-align: top;\n",
       "    }\n",
       "\n",
       "    .dataframe thead th {\n",
       "        text-align: right;\n",
       "    }\n",
       "</style>\n",
       "<table border=\"1\" class=\"dataframe\">\n",
       "  <thead>\n",
       "    <tr style=\"text-align: right;\">\n",
       "      <th></th>\n",
       "      <th>Exporter</th>\n",
       "      <th>Importer</th>\n",
       "      <th>Product</th>\n",
       "      <th>Trade Value</th>\n",
       "      <th>Year</th>\n",
       "    </tr>\n",
       "  </thead>\n",
       "  <tbody>\n",
       "    <tr>\n",
       "      <th>0</th>\n",
       "      <td>Malawi</td>\n",
       "      <td>China</td>\n",
       "      <td>Wheat</td>\n",
       "      <td>5000000</td>\n",
       "      <td>2023</td>\n",
       "    </tr>\n",
       "    <tr>\n",
       "      <th>1</th>\n",
       "      <td>Brazil</td>\n",
       "      <td>Germany</td>\n",
       "      <td>Soybeans</td>\n",
       "      <td>3000000</td>\n",
       "      <td>2023</td>\n",
       "    </tr>\n",
       "    <tr>\n",
       "      <th>2</th>\n",
       "      <td>India</td>\n",
       "      <td>Malawi</td>\n",
       "      <td>Rice</td>\n",
       "      <td>2000000</td>\n",
       "      <td>2023</td>\n",
       "    </tr>\n",
       "    <tr>\n",
       "      <th>3</th>\n",
       "      <td>China</td>\n",
       "      <td>Nigeria</td>\n",
       "      <td>Fish</td>\n",
       "      <td>1000000</td>\n",
       "      <td>2023</td>\n",
       "    </tr>\n",
       "    <tr>\n",
       "      <th>4</th>\n",
       "      <td>Malawi</td>\n",
       "      <td>Mexico</td>\n",
       "      <td>Wheat</td>\n",
       "      <td>4000000</td>\n",
       "      <td>2023</td>\n",
       "    </tr>\n",
       "  </tbody>\n",
       "</table>\n",
       "</div>"
      ],
      "text/plain": [
       "  Exporter Importer   Product  Trade Value  Year\n",
       "0   Malawi    China     Wheat      5000000  2023\n",
       "1   Brazil  Germany  Soybeans      3000000  2023\n",
       "2    India   Malawi      Rice      2000000  2023\n",
       "3    China  Nigeria      Fish      1000000  2023\n",
       "4   Malawi   Mexico     Wheat      4000000  2023"
      ]
     },
     "execution_count": 8,
     "metadata": {},
     "output_type": "execute_result"
    }
   ],
   "source": [
    "# read csv formatted tabular data into dataframe\n",
    "df = pd.read_csv('Fake FAO Dataset - Sheet1.csv')\n",
    "\n",
    "# view the first five rows\n",
    "df.head()"
   ]
  },
  {
   "cell_type": "code",
   "execution_count": 3,
   "id": "c38b7d73",
   "metadata": {},
   "outputs": [
    {
     "name": "stdout",
     "output_type": "stream",
     "text": [
      "<class 'pandas.core.frame.DataFrame'>\n",
      "RangeIndex: 8 entries, 0 to 7\n",
      "Data columns (total 5 columns):\n",
      " #   Column       Non-Null Count  Dtype \n",
      "---  ------       --------------  ----- \n",
      " 0   Exporter     8 non-null      object\n",
      " 1   Importer     8 non-null      object\n",
      " 2   Product      8 non-null      object\n",
      " 3   Trade Value  8 non-null      int64 \n",
      " 4   Year         8 non-null      int64 \n",
      "dtypes: int64(2), object(3)\n",
      "memory usage: 448.0+ bytes\n"
     ]
    }
   ],
   "source": [
    "# summary info of the df columns, rows and data types\n",
    "df.info()"
   ]
  },
  {
   "cell_type": "code",
   "execution_count": 4,
   "id": "f323ec6b",
   "metadata": {},
   "outputs": [],
   "source": [
    "# initialize a new directed graph\n",
    "G = nx.DiGraph()"
   ]
  },
  {
   "cell_type": "code",
   "execution_count": 5,
   "id": "b1cbf207",
   "metadata": {},
   "outputs": [
    {
     "name": "stdout",
     "output_type": "stream",
     "text": [
      "DiGraph with 9 nodes and 8 edges\n"
     ]
    }
   ],
   "source": [
    "# iterate through each row and add an edge (link/connection/relationship) for import and export countries\n",
    "# add trade value as weight (strength of the connection)\n",
    "for item, row in df.iterrows():\n",
    "    G.add_edge(row['Exporter'], row['Importer'], weight=row['Trade Value'])\n",
    "    \n",
    "print(G)"
   ]
  },
  {
   "cell_type": "code",
   "execution_count": 6,
   "id": "e26bf53d",
   "metadata": {
    "scrolled": false
   },
   "outputs": [
    {
     "data": {
      "text/plain": [
       "Text(0.5, 1.0, 'Simulated Trade Network')"
      ]
     },
     "execution_count": 6,
     "metadata": {},
     "output_type": "execute_result"
    },
    {
     "data": {
      "image/png": "[encoded data removed]",
      "text/plain": [
       "<Figure size 1000x600 with 1 Axes>"
      ]
     },
     "metadata": {},
     "output_type": "display_data"
    }
   ],
   "source": [
    "# plot the graph with formatting\n",
    "plt.figure(figsize=(10,6))\n",
    "# create formatted position for nodes\n",
    "pos = nx.spring_layout(G, seed=42)\n",
    "# apply formatting\n",
    "nx.draw_networkx(G, pos, with_labels=True,\n",
    "       node_color=\"skyblue\",\n",
    "       edge_color=\"orange\",\n",
    "       font_size=12)\n",
    "\n",
    "plt.title(\"Simulated Trade Network\")"
   ]
  },
  {
   "cell_type": "markdown",
   "id": "5d8836d5",
   "metadata": {},
   "source": [
    "# Measures of Network Analyses\n",
    "\n",
    "## Graph Density\n",
    "\n",
    "`num_of_edges / num_of_possible edges`\n",
    "\n",
    "Measures how tightly connected the network is\n",
    "\n",
    "## Degree Centrality\n",
    "\n",
    "Node | Degree | Degree Centrality |\n",
    "| -------- | ------- |------- |\n",
    "| Malawi | 20 | 1 |\n",
    "| USA | 10 | 0.5 |\n",
    "| Egypt | 2 | 0.1 |\n",
    "\n",
    "*If the highest degree node is 20\n",
    "\n",
    "For degree centrality, higher values mean that the node is more central.\n",
    "\n",
    "## Shortest Path\n",
    "\n",
    "Finding the most efficient route between nodes (Dijkstra's algorithm)"
   ]
  },
  {
   "cell_type": "markdown",
   "id": "9e759b0a",
   "metadata": {},
   "source": [
    "##  Exercises:\n",
    "\n",
    "### Calculate Degree Centrality for each node\n",
    "\n",
    "- Can use `nx.degree_centrality()` - inspect the output of the function!\n",
    "\n",
    "### Calculate Shortest Path\n",
    "\n",
    "- Can use `nx.shortest_path()` - inspect the output of the function!\n",
    "\n",
    "### Calculate Graph Density\n",
    "\n",
    "- Can use `nx.density()`\n"
   ]
  },
  {
   "cell_type": "code",
   "execution_count": 7,
   "id": "9253d241",
   "metadata": {
    "scrolled": true
   },
   "outputs": [
    {
     "name": "stdout",
     "output_type": "stream",
     "text": [
      "{'Malawi': 0.5, 'China': 0.375, 'Brazil': 0.25, 'Germany': 0.125, 'India': 0.25, 'Nigeria': 0.125, 'Mexico': 0.125, 'Russia': 0.125, 'Egypt': 0.125}\n"
     ]
    }
   ],
   "source": [
    "degree_centrality = nx.degree_centrality(G)\n",
    "print(degree_centrality)"
   ]
  },
  {
   "cell_type": "code",
   "execution_count": 24,
   "id": "9636006e",
   "metadata": {},
   "outputs": [
    {
     "data": {
      "text/plain": [
       "['India', 'China', 'Nigeria']"
      ]
     },
     "execution_count": 24,
     "metadata": {},
     "output_type": "execute_result"
    }
   ],
   "source": [
    "shortest_paths = nx.shortest_path(G,'India', 'Nigeria')\n",
    "#shortest_paths.values()\n",
    "shortest_paths"
   ]
  },
  {
   "cell_type": "code",
   "execution_count": 26,
   "id": "b66a1b4a",
   "metadata": {},
   "outputs": [
    {
     "data": {
      "text/plain": [
       "0.1111111111111111"
      ]
     },
     "execution_count": 26,
     "metadata": {},
     "output_type": "execute_result"
    }
   ],
   "source": [
    "nx.density(G)"
   ]
  },
  {
   "cell_type": "markdown",
   "id": "48329ece",
   "metadata": {},
   "source": [
    "## Try with Real Data\n",
    "\n",
    "### Food and Agriculture Organization of the United Nations \n",
    "\n",
    "FAOSTAT: https://www.fao.org/faostat/en/#data/TM\n",
    "\n",
    "FAO Malawi Trade Dataset: `FAOSTAT_data_en_2-13-2025.csv`\n",
    "\n",
    "### Description\n",
    "The food and agricultural trade dataset is collected, processed and disseminated by FAO according to the standard International Merchandise Trade Statistics (IMTS) Methodology. The data is mainly provided by UNSD, Eurostat, and other national authorities as needed. This source data is checked for outliers, trade partner data is used for non-reporting countries or missing cells, and data on food aid is added to take into account total cross-border trade flows. The trade database includes the following variables: export quantity, export value, import quantity, and import value. The trade database includes all food and agricultural products imported/exported annually by all the countries in the world. \n",
    "\n",
    "## Additional Resources\n",
    "\n",
    "### NetworkX Documentation\n",
    "\n",
    "NetworkX. Network Analysis in Python: https://networkx.org/\n",
    "\n"
   ]
  }
 ],
 "metadata": {
  "kernelspec": {
   "display_name": "Python 3 (ipykernel)",
   "language": "python",
   "name": "python3"
  },
  "language_info": {
   "codemirror_mode": {
    "name": "ipython",
    "version": 3
   },
   "file_extension": ".py",
   "mimetype": "text/x-python",
   "name": "python",
   "nbconvert_exporter": "python",
   "pygments_lexer": "ipython3",
   "version": "3.10.9"
  }
 },
 "nbformat": 4,
 "nbformat_minor": 5
}
