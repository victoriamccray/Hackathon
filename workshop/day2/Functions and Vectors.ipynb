{
 "cells": [
  {
   "cell_type": "markdown",
   "id": "3e7d5839",
   "metadata": {},
   "source": [
    "# Functions and Vectors"
   ]
  },
  {
   "cell_type": "code",
   "execution_count": 1,
   "id": "36238ced",
   "metadata": {},
   "outputs": [],
   "source": [
    "import datetime\n",
    "from datetime import datetime"
   ]
  },
  {
   "cell_type": "code",
   "execution_count": 2,
   "id": "b4cfe34d",
   "metadata": {},
   "outputs": [
    {
     "name": "stdout",
     "output_type": "stream",
     "text": [
      "Last Updated: 2025-02-13 02:43:30.525001\n"
     ]
    }
   ],
   "source": [
    "print(\"Last Updated:\", str(datetime.today()))"
   ]
  },
  {
   "cell_type": "code",
   "execution_count": 3,
   "id": "753a6c63",
   "metadata": {},
   "outputs": [],
   "source": [
    "import numpy as np\n",
    "import matplotlib.pyplot as plt"
   ]
  },
  {
   "cell_type": "markdown",
   "id": "723de756",
   "metadata": {},
   "source": [
    "| NumPy Array    | Python list |\n",
    "| -------- | ------- |\n",
    "| Faster processing (vectorized operations)  | Slower (requires loops)   |\n",
    "| Uses less memory | Uses more memory    |\n",
    "| Homogenous data types (all elements must be the same type)    | Heterogenous (can store different data types   |\n",
    "| Built in mathematical operations    | Limited methods for numerical operations |\n",
    "| Advanced indexing and slicing    | Basic index and slicing |"
   ]
  },
  {
   "cell_type": "markdown",
   "id": "423aa8b9",
   "metadata": {},
   "source": [
    "### Comparing Data Types: NumPy Array vs List\n",
    "\n",
    "- Memory Efficiency\n",
    "- Performance Speed\n",
    "- Vector Operations"
   ]
  },
  {
   "cell_type": "code",
   "execution_count": 4,
   "id": "454de07d",
   "metadata": {},
   "outputs": [
    {
     "name": "stdout",
     "output_type": "stream",
     "text": [
      "[0, 1, 2, 3, 4, 5, 6, 7, 8, 9, 10, 11, 12, 13, 14, 15, 16, 17, 18, 19, 20, 21, 22, 23, 24, 25, 26, 27, 28, 29, 30, 31, 32, 33, 34, 35, 36, 37, 38, 39, 40, 41, 42, 43, 44, 45, 46, 47, 48, 49, 50, 51, 52, 53, 54, 55, 56, 57, 58, 59, 60, 61, 62, 63, 64, 65, 66, 67, 68, 69, 70, 71, 72, 73, 74, 75, 76, 77, 78, 79, 80, 81, 82, 83, 84, 85, 86, 87, 88, 89, 90, 91, 92, 93, 94, 95, 96, 97, 98, 99]\n"
     ]
    }
   ],
   "source": [
    "lst = list(range(100))\n",
    "print(lst)"
   ]
  },
  {
   "cell_type": "code",
   "execution_count": 5,
   "id": "58feea1d",
   "metadata": {},
   "outputs": [],
   "source": [
    "import sys"
   ]
  },
  {
   "cell_type": "code",
   "execution_count": 6,
   "id": "cb6d86ef",
   "metadata": {},
   "outputs": [
    {
     "name": "stdout",
     "output_type": "stream",
     "text": [
      "Memory size for list: 80056\n",
      "Memory size for numpy array: 40112\n"
     ]
    }
   ],
   "source": [
    "# comparing memory usage\n",
    "lst = list(range(10000))\n",
    "arr = np.array(lst)\n",
    "\n",
    "# using sys.getsizeof()\n",
    "lst_size = sys.getsizeof(lst)\n",
    "arr_size = sys.getsizeof(arr)\n",
    "\n",
    "print(\"Memory size for list:\", lst_size )\n",
    "print(\"Memory size for numpy array:\", arr_size )"
   ]
  },
  {
   "cell_type": "code",
   "execution_count": 7,
   "id": "4d1a99fd",
   "metadata": {},
   "outputs": [
    {
     "name": "stdout",
     "output_type": "stream",
     "text": [
      "List Operation:  [1, 2, 3, 4, 5, 6]\n"
     ]
    }
   ],
   "source": [
    "# Arithmetic and Vector Operations\n",
    "lst1 = [1, 2, 3]\n",
    "lst2 = [4, 5, 6]\n",
    "\n",
    "print(\"List Operation: \", lst1 + lst2)\n"
   ]
  },
  {
   "cell_type": "code",
   "execution_count": 8,
   "id": "2266b4e2",
   "metadata": {},
   "outputs": [
    {
     "name": "stdout",
     "output_type": "stream",
     "text": [
      " Array operation:  [5 7 9]\n"
     ]
    }
   ],
   "source": [
    "arr1 = np.array(lst1)\n",
    "arr2 = np.array(lst2)\n",
    "\n",
    "print(\" Array operation: \", arr1 + arr2)"
   ]
  },
  {
   "cell_type": "code",
   "execution_count": 9,
   "id": "1af41039",
   "metadata": {},
   "outputs": [
    {
     "name": "stdout",
     "output_type": "stream",
     "text": [
      "[11 12 13]\n"
     ]
    }
   ],
   "source": [
    "# broadcasting\n",
    "print(arr1 + 10)"
   ]
  },
  {
   "cell_type": "code",
   "execution_count": 10,
   "id": "28cca76f",
   "metadata": {},
   "outputs": [
    {
     "name": "stdout",
     "output_type": "stream",
     "text": [
      "1739432613.1337385\n"
     ]
    }
   ],
   "source": [
    "import time\n",
    "\n",
    "# arithmetic operation using list comprehension\n",
    "start = time.time()\n",
    "print(start)\n",
    "now = time.time()\n"
   ]
  },
  {
   "cell_type": "code",
   "execution_count": null,
   "id": "4e326c0c",
   "metadata": {},
   "outputs": [],
   "source": []
  },
  {
   "cell_type": "code",
   "execution_count": 11,
   "id": "04cae64e",
   "metadata": {},
   "outputs": [
    {
     "name": "stdout",
     "output_type": "stream",
     "text": [
      "0.0\n",
      "0.0\n"
     ]
    }
   ],
   "source": [
    "# start time before the operation\n",
    "start = time.time()\n",
    "# perform the operation\n",
    "lst_result = [x*2 for x in lst1]\n",
    "# calculate the time it took to perform\n",
    "print(time.time() - start)\n",
    "\n",
    "\n",
    "# start time before the operation\n",
    "start = time.time()\n",
    "# perform the operation\n",
    "arr_result = [x*2 for x in arr1]\n",
    "# calculate the time it took to perform\n",
    "print(time.time() - start)"
   ]
  },
  {
   "cell_type": "code",
   "execution_count": 12,
   "id": "00bb8673",
   "metadata": {},
   "outputs": [
    {
     "name": "stderr",
     "output_type": "stream",
     "text": [
      "C:\\Users\\victo\\AppData\\Local\\Temp\\ipykernel_28736\\563653507.py:5: VisibleDeprecationWarning: Creating an ndarray from ragged nested sequences (which is a list-or-tuple of lists-or-tuples-or ndarrays with different lengths or shapes) is deprecated. If you meant to do this, you must specify 'dtype=object' when creating the ndarray.\n",
      "  second = np.array(second)\n"
     ]
    }
   ],
   "source": [
    "first = [[1,2,3],[4,5,6],[7,8,9]]\n",
    "first = np.array(first)\n",
    "\n",
    "second = [[1,2],[4,5],[7,8],[5,6,7]]\n",
    "second = np.array(second)\n",
    "\n",
    "#first*second"
   ]
  },
  {
   "cell_type": "code",
   "execution_count": 13,
   "id": "23514efd",
   "metadata": {},
   "outputs": [
    {
     "data": {
      "text/plain": [
       "array([ 1,  4, 27])"
      ]
     },
     "execution_count": 13,
     "metadata": {},
     "output_type": "execute_result"
    }
   ],
   "source": [
    "test = [1,2,3]\n",
    "test = np.array(test)\n",
    "\n",
    "test2 = test\n",
    "test**test2"
   ]
  },
  {
   "cell_type": "code",
   "execution_count": 14,
   "id": "568d49bc",
   "metadata": {},
   "outputs": [
    {
     "name": "stdout",
     "output_type": "stream",
     "text": [
      "0.0002258999738842249\n",
      "0.0003723000409081578\n"
     ]
    }
   ],
   "source": [
    "import time\n",
    "\n",
    "start = time.perf_counter()\n",
    "lst_result = [x * 2 for x in lst1]\n",
    "print(time.perf_counter() - start)\n",
    "\n",
    "start = time.perf_counter()\n",
    "arr_result = [x * 2 for x in arr1]\n",
    "print(time.perf_counter() - start)\n"
   ]
  },
  {
   "cell_type": "code",
   "execution_count": 15,
   "id": "f4a55f05",
   "metadata": {
    "scrolled": true
   },
   "outputs": [
    {
     "name": "stdout",
     "output_type": "stream",
     "text": [
      "1018699.1471249\n"
     ]
    }
   ],
   "source": [
    "print(start)"
   ]
  },
  {
   "cell_type": "code",
   "execution_count": 16,
   "id": "d510ca6c",
   "metadata": {
    "scrolled": true
   },
   "outputs": [
    {
     "name": "stdout",
     "output_type": "stream",
     "text": [
      "1739432613.5010679\n"
     ]
    }
   ],
   "source": [
    "print(time.time())"
   ]
  },
  {
   "cell_type": "code",
   "execution_count": 17,
   "id": "15e591d5",
   "metadata": {},
   "outputs": [
    {
     "name": "stdout",
     "output_type": "stream",
     "text": [
      "2025-02-13 02:43:33.551107\n"
     ]
    }
   ],
   "source": [
    "import time\n",
    "from datetime import datetime\n",
    "\n",
    "timestamp = time.time()\n",
    "readable_time = datetime.fromtimestamp(timestamp)\n",
    "\n",
    "print(readable_time)\n"
   ]
  },
  {
   "cell_type": "code",
   "execution_count": 18,
   "id": "5280e5dd",
   "metadata": {
    "scrolled": true
   },
   "outputs": [
    {
     "name": "stdout",
     "output_type": "stream",
     "text": [
      "List 1738413914.451208 seconds\n"
     ]
    }
   ],
   "source": [
    "print(\"List\",time.time() - start, \"seconds\")"
   ]
  },
  {
   "cell_type": "code",
   "execution_count": 19,
   "id": "95934c3a",
   "metadata": {},
   "outputs": [
    {
     "name": "stdout",
     "output_type": "stream",
     "text": [
      "0.004039287567138672\n"
     ]
    }
   ],
   "source": [
    "# start time before the operation\n",
    "start = time.time()\n",
    "[x*2 for x in arr1]\n",
    "\n",
    "print(time.time() - start)\n",
    "\n",
    "# compare time required to process"
   ]
  },
  {
   "cell_type": "code",
   "execution_count": 20,
   "id": "5ad7de02",
   "metadata": {
    "scrolled": true
   },
   "outputs": [
    {
     "name": "stdout",
     "output_type": "stream",
     "text": [
      "0.0313107967376709\n"
     ]
    }
   ],
   "source": [
    "print(time.time() - start)"
   ]
  },
  {
   "cell_type": "markdown",
   "id": "e5264215",
   "metadata": {},
   "source": [
    "## Exercises\n"
   ]
  },
  {
   "cell_type": "markdown",
   "id": "b6487c60",
   "metadata": {},
   "source": [
    "### Generate Arrays\n",
    "\n",
    "- 3x3 array of zeroes\n",
    "- 2x4 array of ones"
   ]
  },
  {
   "cell_type": "markdown",
   "id": "e5d88698",
   "metadata": {},
   "source": [
    "### Operations\n",
    "\n",
    "For two arrays:\n",
    "\n",
    "- perform element wide multiplication, addition, and exponentiation"
   ]
  },
  {
   "cell_type": "markdown",
   "id": "2ccda7b4",
   "metadata": {},
   "source": [
    "### Boolean Masking (filtering)\n",
    "\n",
    "- Find elements that are greater than 50"
   ]
  },
  {
   "cell_type": "code",
   "execution_count": null,
   "id": "ddff85fd",
   "metadata": {},
   "outputs": [],
   "source": []
  },
  {
   "cell_type": "markdown",
   "id": "695a0a52",
   "metadata": {},
   "source": [
    "## Functions\n",
    "*italics*\n",
    "**bold**\n",
    "\n",
    "Col1 | Col2\n",
    "| -------- | ------- |\n",
    "Row1 | Row1\n",
    "\n",
    "Objectives: \n",
    "- Define function and calls\n",
    "- Define arguments\n",
    "- Understand when to use functions\n",
    "- Testing and validating functions"
   ]
  },
  {
   "cell_type": "code",
   "execution_count": 21,
   "id": "107c5f50",
   "metadata": {},
   "outputs": [],
   "source": [
    "def greet(name):\n",
    "    '''\n",
    "    greets person based on a provided name\n",
    "    arguments: str, provided name\n",
    "    return: str, greet statement based on name\n",
    "    '''\n",
    "    return(f\"Hello {name}\")\n",
    "    "
   ]
  },
  {
   "cell_type": "code",
   "execution_count": 22,
   "id": "779e5620",
   "metadata": {},
   "outputs": [
    {
     "name": "stdout",
     "output_type": "stream",
     "text": [
      "Hello Owen\n"
     ]
    }
   ],
   "source": [
    "test_greet = greet(\"Owen\")\n",
    "print(test_greet)"
   ]
  },
  {
   "cell_type": "code",
   "execution_count": 23,
   "id": "0008e5e1",
   "metadata": {},
   "outputs": [
    {
     "name": "stdout",
     "output_type": "stream",
     "text": [
      "Hello Peter\n",
      "Hello Brian\n",
      "Hello Grace\n"
     ]
    }
   ],
   "source": [
    "name_lst = ['Peter', 'Brian', 'Grace']\n",
    "\n",
    "for i in range(len(name_lst)):\n",
    "    \n",
    "    print(greet(name_lst[i]))"
   ]
  },
  {
   "cell_type": "code",
   "execution_count": 24,
   "id": "5187d50b",
   "metadata": {},
   "outputs": [],
   "source": [
    "def greet_full_name(first_name = 'Victoria', last_name = 'McCray'):\n",
    "    '''\n",
    "    greets person by full name provided, default is 'Victoria McCray' (the function author)\n",
    "    arguments: str, names\n",
    "    return: str, greet statement\n",
    "    '''\n",
    "    print(f\"Hello {first_name} {last_name}\")"
   ]
  },
  {
   "cell_type": "code",
   "execution_count": 25,
   "id": "85f1405d",
   "metadata": {},
   "outputs": [
    {
     "name": "stdout",
     "output_type": "stream",
     "text": [
      "Hello Foster Smith\n"
     ]
    }
   ],
   "source": [
    "test_full_name = greet_full_name(first_name = \"Foster\", last_name = \"Smith\")"
   ]
  },
  {
   "cell_type": "code",
   "execution_count": 26,
   "id": "8f167f9b",
   "metadata": {},
   "outputs": [],
   "source": [
    "def calculate_mean(num_lst):\n",
    "    '''\n",
    "    calculates average (mean) on provided number list\n",
    "    arguments: list of int or float\n",
    "    return: int or float\n",
    "    '''\n",
    "    \n",
    "    mean = sum(num_lst) / len(num_lst)\n",
    "    return(mean)"
   ]
  },
  {
   "cell_type": "code",
   "execution_count": 27,
   "id": "9be6e63a",
   "metadata": {},
   "outputs": [
    {
     "name": "stdout",
     "output_type": "stream",
     "text": [
      "3.9333333333333336\n"
     ]
    }
   ],
   "source": [
    "\n",
    "num_lst = [1,2,3]\n",
    "float_lst = [2.5, 3.6, 5.7]\n",
    "\n",
    "#test_num_mean = calculate_mean(num_lst)\n",
    "#print(test_num_mean)\n",
    "\n",
    "test_flt_mean = calculate_mean(float_lst)\n",
    "print(test_flt_mean)"
   ]
  },
  {
   "cell_type": "code",
   "execution_count": 28,
   "id": "61e768a3",
   "metadata": {},
   "outputs": [
    {
     "data": {
      "text/plain": [
       "[1, 2, 3, 4]"
      ]
     },
     "execution_count": 28,
     "metadata": {},
     "output_type": "execute_result"
    }
   ],
   "source": [
    "lst1 = [1,2,3]\n",
    "lst1.append(4)\n",
    "lst1"
   ]
  },
  {
   "cell_type": "markdown",
   "id": "29c45c65",
   "metadata": {},
   "source": [
    "## Build a function\n",
    "\n",
    "Using `plot_stat_map`, write a function that plots a brain image based on a provided file or url path\n",
    "\n",
    "- Define the function\n",
    "- Define the input(s)\n",
    "- Perform the operation\n",
    "- Document function using a doc-string\n",
    "- Test using your own file path\n",
    "\n",
    "Hint: https://nilearn.github.io/dev/modules/generated/nilearn.plotting.plot_stat_map.html"
   ]
  },
  {
   "cell_type": "code",
   "execution_count": 29,
   "id": "76784e5d",
   "metadata": {},
   "outputs": [],
   "source": [
    "import nilearn\n",
    "from nilearn import plotting, image, datasets"
   ]
  },
  {
   "cell_type": "code",
   "execution_count": 30,
   "id": "eec8dd1f",
   "metadata": {},
   "outputs": [],
   "source": [
    "def plot_fmri_image(image_path):\n",
    "    '''\n",
    "    plot a brain image statistical map\n",
    "    dependencies: nilearn, plotting, image\n",
    "    arguments: path to fMRI image\n",
    "    return: brain image, plot\n",
    "    '''\n",
    "    # url - directs to a NIFTI file\n",
    "    \n",
    "    # storing the image using the file path\n",
    "    img = image.load_img(image_path)\n",
    "    # plot the statistical map\n",
    "    plotting.plot_stat_map(img, title = \"fMRI Image\")"
   ]
  },
  {
   "cell_type": "code",
   "execution_count": 31,
   "id": "c8ed4c11",
   "metadata": {
    "scrolled": true
   },
   "outputs": [],
   "source": [
    "# grab MNI 152 Template\n",
    "example_img = datasets.load_mni152_template()\n",
    "#example_img"
   ]
  },
  {
   "cell_type": "markdown",
   "id": "ad62859f",
   "metadata": {},
   "source": [
    "**Note**: Realistically, the `plot_stat_map` is already a function that takes in a neuroimaging file path, so we wouldn't build this in practice."
   ]
  },
  {
   "cell_type": "code",
   "execution_count": 32,
   "id": "7aac0c82",
   "metadata": {
    "scrolled": true
   },
   "outputs": [
    {
     "data": {
      "image/png": "[encoded data removed]",
      "text/plain": [
       "<Figure size 730x350 with 5 Axes>"
      ]
     },
     "metadata": {},
     "output_type": "display_data"
    }
   ],
   "source": [
    "# test function with MNI template\n",
    "plot_fmri_image(example_img)"
   ]
  }
 ],
 "metadata": {
  "kernelspec": {
   "display_name": "Python 3 (ipykernel)",
   "language": "python",
   "name": "python3"
  },
  "language_info": {
   "codemirror_mode": {
    "name": "ipython",
    "version": 3
   },
   "file_extension": ".py",
   "mimetype": "text/x-python",
   "name": "python",
   "nbconvert_exporter": "python",
   "pygments_lexer": "ipython3",
   "version": "3.10.9"
  }
 },
 "nbformat": 4,
 "nbformat_minor": 5
}
