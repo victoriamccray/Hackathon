{
 "cells": [
  {
   "cell_type": "markdown",
   "id": "4056bf27",
   "metadata": {},
   "source": [
    "# Inspecting a NIfTI File with Python"
   ]
  },
  {
   "cell_type": "markdown",
   "id": "d20779a9",
   "metadata": {},
   "source": [
    "### Author: Victoria McCray"
   ]
  },
  {
   "cell_type": "code",
   "execution_count": 1,
   "id": "3828f5fa",
   "metadata": {},
   "outputs": [
    {
     "name": "stdout",
     "output_type": "stream",
     "text": [
      "Last Updated: 2025-01-29\n"
     ]
    }
   ],
   "source": [
    "import datetime\n",
    "\n",
    "current_date = datetime.date.today()\n",
    "\n",
    "print(\"Last Updated:\", current_date)"
   ]
  },
  {
   "cell_type": "markdown",
   "id": "5d518a8a",
   "metadata": {},
   "source": [
    "## Overview\n",
    "The code demonstrates how to **load and inspect a NIfTI file** using **Nibabel** and **Nilearn**. The **ICBM 152 2009** template dataset is downloaded, and its header information is extracted for analysis. \n",
    "\n",
    "The ICBM 152 2009 dataset is a widely used brain template for spatial normalization in neuroimaging research. The ICBM 152 2009 template is a standardized 3D brain image used for neuroimaging studies. It represents an average brain anatomy based on a sample of healthy individuals and is often used for spatial normalization. The template is in MNI space (Montreal Neurological Institute coordinates) and includes both structural and functional reference data for various neuroimaging analyses.\n",
    "\n",
    "## Dependencies\n",
    "The following Python packages are required to be installed:\n",
    "```bash\n",
    "pip install nibabel nilearn\n",
    "```"
   ]
  },
  {
   "cell_type": "code",
   "execution_count": null,
   "id": "14dffb44",
   "metadata": {},
   "outputs": [],
   "source": []
  },
  {
   "cell_type": "code",
   "execution_count": 2,
   "id": "6521159a",
   "metadata": {
    "scrolled": true
   },
   "outputs": [
    {
     "name": "stdout",
     "output_type": "stream",
     "text": [
      "<class 'nibabel.nifti1.Nifti1Header'> object, endian='<'\n",
      "sizeof_hdr      : 348\n",
      "data_type       : b''\n",
      "db_name         : b''\n",
      "extents         : 0\n",
      "session_error   : 0\n",
      "regular         : b'r'\n",
      "dim_info        : 0\n",
      "dim             : [  3 197 233 189   1   1   0   0]\n",
      "intent_p1       : 0.0\n",
      "intent_p2       : 0.0\n",
      "intent_p3       : 0.0\n",
      "intent_code     : none\n",
      "datatype        : int16\n",
      "bitpix          : 16\n",
      "slice_start     : 0\n",
      "pixdim          : [1. 1. 1. 1. 0. 1. 0. 0.]\n",
      "vox_offset      : 0.0\n",
      "scl_slope       : nan\n",
      "scl_inter       : nan\n",
      "slice_end       : 0\n",
      "slice_code      : unknown\n",
      "xyzt_units      : 10\n",
      "cal_max         : 100.0\n",
      "cal_min         : 0.0\n",
      "slice_duration  : 0.0\n",
      "toffset         : 0.0\n",
      "glmax           : 0\n",
      "glmin           : 0\n",
      "descrip         : b'mnc2nii mni_icbm152_nlin_sym_09a/mni_icbm152_t1_tal_nlin_sym_09a.mnc mni_icbm15'\n",
      "aux_file        : b''\n",
      "qform_code      : unknown\n",
      "sform_code      : mni\n",
      "quatern_b       : 0.0\n",
      "quatern_c       : 0.0\n",
      "quatern_d       : 0.0\n",
      "qoffset_x       : 0.0\n",
      "qoffset_y       : 0.0\n",
      "qoffset_z       : 0.0\n",
      "srow_x          : [  1.   0.   0. -98.]\n",
      "srow_y          : [   0.    1.    0. -134.]\n",
      "srow_z          : [  0.   0.   1. -72.]\n",
      "intent_name     : b''\n",
      "magic           : b'n+1'\n"
     ]
    }
   ],
   "source": [
    "import nibabel as nib\n",
    "from nilearn import datasets\n",
    "\n",
    "# Load a sample NIfTI file\n",
    "nifti_file = datasets.fetch_icbm152_2009()['t1']\n",
    "img = nib.load(nifti_file)\n",
    "\n",
    "# Extract header info\n",
    "print(img.header)\n"
   ]
  },
  {
   "cell_type": "markdown",
   "id": "df308bdd",
   "metadata": {},
   "source": [
    "## **Understanding the Header**  \n",
    "The header metadata provides important details about the neuroimaging file:  \n",
    "\n",
    "- **`dim`**: The shape of the image (number of voxels in X, Y, Z directions).  \n",
    "- **`pixdim`**: The physical size of each voxel in millimeters (e.g., 1mm x 1mm x 1mm).  \n",
    "- **`datatype`**: The numerical type of the image data (e.g., `int16` for 16-bit integer values).  \n",
    "- **`srow_x, srow_y, srow_z`**: Spatial transformation matrices that align the image with real-world brain coordinates.  \n",
    "- **`qform_code / sform_code`**: Indicate how the image is positioned in standard neuroimaging space (e.g., MNI coordinates).  \n",
    "- **`cal_max / cal_min`**: The range of intensity values within the image.  \n",
    "- **`magic`**: Confirms the file is a valid NIfTI-1 format.  \n"
   ]
  },
  {
   "cell_type": "code",
   "execution_count": 3,
   "id": "97bc1d27",
   "metadata": {
    "scrolled": true
   },
   "outputs": [
    {
     "name": "stdout",
     "output_type": "stream",
     "text": [
      "Image Shape: (197, 233, 189)\n",
      "Voxel Size (mm): (1.0, 1.0, 1.0)\n",
      "Data Type: int16\n",
      "Affine Matrix:\n",
      " [[   1.    0.    0.  -98.]\n",
      " [   0.    1.    0. -134.]\n",
      " [   0.    0.    1.  -72.]\n",
      " [   0.    0.    0.    1.]]\n"
     ]
    }
   ],
   "source": [
    "# Inspect the header information\n",
    "print(\"Image Shape:\", img.shape)\n",
    "print(\"Voxel Size (mm):\", img.header.get_zooms())\n",
    "print(\"Data Type:\", img.header.get_data_dtype())\n",
    "print(\"Affine Matrix:\\n\", img.affine)\n"
   ]
  },
  {
   "cell_type": "markdown",
   "id": "d5ea6b5e",
   "metadata": {},
   "source": [
    "## Additional Resources\n",
    "\n",
    "### ICBM 152 2009 Template\n",
    "\n",
    "#### References\n",
    "\n",
    "[1] D. Louis Collins, Alex P. Zijdenbos, Wim F. C. Baaré, and Alan C. Evans. Animal+insect: improved cortical structure segmentation. In Attila Kuba, Martin Šáamal, and Andrew Todd-Pokropek, editors, *Information Processing in Medical Imaging*, 210–223. Berlin, Heidelberg, 1999. Springer Berlin Heidelberg.\n",
    "\n",
    "[2] VS Fonov, AC Evans, RC McKinstry, CR Almli, and DL Collins. Unbiased nonlinear average age-appropriate brain templates from birth to adulthood. *NeuroImage, 47*(Supplement 1):S102, 2009. [doi:10.1016/S1053-8119(09)70884-5](https://doi.org/10.1016/S1053-8119(09)70884-5).\n",
    "\n",
    "[3] Vladimir Fonov, Alan C. Evans, Kelly Botteron, C. Robert Almli, Robert C. McKinstry, and D. Louis Collins. Unbiased average age-appropriate atlases for pediatric studies. *NeuroImage, 54*(1):313–327, 2011. [doi:10.1016/j.neuroimage.2010.07.033](https://doi.org/10.1016/j.neuroimage.2010.07.033).\n"
   ]
  }
 ],
 "metadata": {
  "kernelspec": {
   "display_name": "Python 3 (ipykernel)",
   "language": "python",
   "name": "python3"
  },
  "language_info": {
   "codemirror_mode": {
    "name": "ipython",
    "version": 3
   },
   "file_extension": ".py",
   "mimetype": "text/x-python",
   "name": "python",
   "nbconvert_exporter": "python",
   "pygments_lexer": "ipython3",
   "version": "3.10.9"
  }
 },
 "nbformat": 4,
 "nbformat_minor": 5
}
