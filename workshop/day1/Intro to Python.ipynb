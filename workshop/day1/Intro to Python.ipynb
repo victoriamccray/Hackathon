{
 "cells": [
  {
   "cell_type": "markdown",
   "id": "0b7314b4",
   "metadata": {},
   "source": [
    "# Introduction to Python: Lists and Loops\n",
    "\n",
    "By completing these exercises, you’ll get hands-on practice with lists and loops, which are essential for data manipulation and analysis in Python!\n",
    "\n"
   ]
  },
  {
   "cell_type": "code",
   "execution_count": 1,
   "id": "32bcaf37",
   "metadata": {},
   "outputs": [
    {
     "name": "stdout",
     "output_type": "stream",
     "text": [
      "Last Updated: 2025-01-28\n"
     ]
    }
   ],
   "source": [
    "import datetime\n",
    "\n",
    "current_date = datetime.date.today()\n",
    "\n",
    "print(\"Last Updated:\", current_date)"
   ]
  },
  {
   "cell_type": "markdown",
   "id": "dcc7dbb0",
   "metadata": {},
   "source": [
    "## Getting Started\n",
    "Python is a versatile and powerful programming language used in many fields, including neuroscience, data science, and psychology. In this notebook, we will explore basic list operations and loops in Python.\n",
    "\n",
    "## Working with Lists\n",
    "Lists in Python are used to store multiple items in a single variable. Lists can hold different types of data, including strings (text), integers (numbers), and more."
   ]
  },
  {
   "cell_type": "markdown",
   "id": "89024a97",
   "metadata": {},
   "source": [
    "### Task 1: Create Lists\n",
    "Define three separate lists based on your favorite subjects, numbers, and months.\n",
    "\n",
    "#### Instructions:\n",
    "1. Create a list variable with your three favorite subjects or fields of interest (strings).\n",
    "2. Create a list variable with your three favorite numbers (integers).\n",
    "3. Create a list variable with your three favorite months (strings).\n",
    "4. Print a statement that describes and displays the contents of each list.\n",
    "\n",
    "#### Example:\n",
    "```python\n",
    "# Creating lists\n",
    "subjects = ['neuroscience', 'data science', 'psychology']\n",
    "months = ['August', 'September', 'February']\n",
    "numbers = [7, 8, 9]\n",
    "\n",
    "# Printing list contents\n",
    "echo_text = f\"My favorite subjects are {subjects}. My favorite months are {months}. My favorite numbers are {numbers}.\"\n",
    "print(echo_text)\n",
    "```"
   ]
  },
  {
   "cell_type": "code",
   "execution_count": null,
   "id": "b225803e",
   "metadata": {},
   "outputs": [],
   "source": []
  },
  {
   "cell_type": "markdown",
   "id": "bcbe0aeb",
   "metadata": {},
   "source": [
    "## Using Loops with Lists\n",
    "Loops allow us to iterate over elements in a list and perform operations on them.\n",
    "\n",
    "### Task 2: Iterate Through Lists\n",
    "Write a loop that goes through each of your lists and prints out their elements in a formatted sentence.\n",
    "\n",
    "#### Instructions:\n",
    "1. Use a `for` loop to iterate through the list elements.\n",
    "2. Print a statement using elements from each list.\n",
    "\n",
    "#### Example:\n",
    "```python\n",
    "for i in range(3):\n",
    "    print(f\"I will study {subjects[i]} in {months[i]} and focus on {numbers[i]} key concepts.\")\n",
    "```"
   ]
  },
  {
   "cell_type": "code",
   "execution_count": null,
   "id": "ffa1881a",
   "metadata": {},
   "outputs": [],
   "source": []
  },
  {
   "cell_type": "markdown",
   "id": "fb1687e4",
   "metadata": {},
   "source": [
    "### Bonus Task: Appending and Concatenating Lists\n",
    "1. Create an empty list.\n",
    "2. Use a loop to append new items to the list.\n",
    "3. Print the updated list.\n",
    "\n",
    "#### Example:\n",
    "```python\n",
    "# Create an empty list\n",
    "new_list = []\n",
    "\n",
    "# Append items in a loop\n",
    "for i in range(3):\n",
    "    new_list.append(subjects[i] + ' - ' + months[i])\n",
    "\n",
    "# Print final list\n",
    "print(new_list)\n",
    "```"
   ]
  },
  {
   "cell_type": "code",
   "execution_count": null,
   "id": "823d64ac",
   "metadata": {},
   "outputs": [],
   "source": []
  },
  {
   "cell_type": "markdown",
   "id": "6137bd7f",
   "metadata": {},
   "source": [
    "## Additional Resources\n",
    "\n",
    "TReND-CaMinA Course Alumni. (2024). *Black In Neuro Week 2024: Intro to Python for Beginners Workshop*. Available at: https://colab.research.google.com/drive/1Xr11SFdc8HGew6gssZGA_TXMLLxWbYgW?usp=sharing\n"
   ]
  },
  {
   "cell_type": "code",
   "execution_count": null,
   "id": "e0b35e9f",
   "metadata": {},
   "outputs": [],
   "source": []
  }
 ],
 "metadata": {
  "kernelspec": {
   "display_name": "Python 3 (ipykernel)",
   "language": "python",
   "name": "python3"
  },
  "language_info": {
   "codemirror_mode": {
    "name": "ipython",
    "version": 3
   },
   "file_extension": ".py",
   "mimetype": "text/x-python",
   "name": "python",
   "nbconvert_exporter": "python",
   "pygments_lexer": "ipython3",
   "version": "3.10.9"
  }
 },
 "nbformat": 4,
 "nbformat_minor": 5
}
