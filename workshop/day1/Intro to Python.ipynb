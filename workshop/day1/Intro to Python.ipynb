{
 "cells": [
  {
   "cell_type": "markdown",
   "id": "0b7314b4",
   "metadata": {},
   "source": [
    "# Introduction to Python: Lists and Loops\n",
    "\n",
    "By completing these exercises, you’ll get hands-on practice with lists and loops, which are essential for data manipulation and analysis in Python!\n",
    "\n"
   ]
  },
  {
   "cell_type": "code",
   "execution_count": 32,
   "id": "32bcaf37",
   "metadata": {
    "scrolled": true
   },
   "outputs": [
    {
     "name": "stdout",
     "output_type": "stream",
     "text": [
      "Last Updated: 2025-02-10\n"
     ]
    }
   ],
   "source": [
    "import datetime as dt\n",
    "\n",
    "current_date = dt.date.today()\n",
    "\n",
    "print(\"Last Updated:\", current_date)"
   ]
  },
  {
   "cell_type": "markdown",
   "id": "e3ba3b45",
   "metadata": {},
   "source": [
    "## Getting Started\n",
    "Python is a versatile and powerful programming language used in many fields, including neuroscience, data science, and psychology. In this notebook, we will explore basic list operations and loops in Python."
   ]
  },
  {
   "cell_type": "markdown",
   "id": "8af992ed",
   "metadata": {},
   "source": [
    "## Variables\n",
    "\n",
    "`x = 10`\n",
    "\n",
    "`name = 'Victoria'`\n",
    "\n",
    "Indentation matters in Python (unlike C/C++, R, etc)\n",
    "\n",
    "\n",
    "## Data Types\n",
    "\n",
    "- Integers (int): 5\n",
    "- Floating point (float): 5.0\n",
    "- Strings (str): \"hello\"\n",
    "- boolean (bool): True, False"
   ]
  },
  {
   "cell_type": "markdown",
   "id": "61bb03cb",
   "metadata": {},
   "source": [
    "## Common Error Types\n",
    "Can you spot the issue?"
   ]
  },
  {
   "cell_type": "code",
   "execution_count": 2,
   "id": "df96983b",
   "metadata": {
    "scrolled": true
   },
   "outputs": [
    {
     "ename": "NameError",
     "evalue": "name 'name' is not defined",
     "output_type": "error",
     "traceback": [
      "\u001b[1;31m---------------------------------------------------------------------------\u001b[0m",
      "\u001b[1;31mNameError\u001b[0m                                 Traceback (most recent call last)",
      "Cell \u001b[1;32mIn[2], line 2\u001b[0m\n\u001b[0;32m      1\u001b[0m nam \u001b[38;5;241m=\u001b[39m \u001b[38;5;124m'\u001b[39m\u001b[38;5;124mVictoria\u001b[39m\u001b[38;5;124m'\u001b[39m\n\u001b[1;32m----> 2\u001b[0m \u001b[38;5;28mprint\u001b[39m(\u001b[43mname\u001b[49m)\n",
      "\u001b[1;31mNameError\u001b[0m: name 'name' is not defined"
     ]
    }
   ],
   "source": [
    "nam = 'Victoria'\n",
    "print(name)"
   ]
  },
  {
   "cell_type": "markdown",
   "id": "a05e6485",
   "metadata": {},
   "source": [
    "## Loops and Iterations\n",
    "\n",
    "When do we use loops?\n",
    "\n",
    "- Automating repetitive tasks\n",
    "- Efficiently modifying lists\n",
    "- Reducing manual coding efforts or steps"
   ]
  },
  {
   "cell_type": "code",
   "execution_count": 12,
   "id": "f0c1cca6",
   "metadata": {},
   "outputs": [
    {
     "name": "stdout",
     "output_type": "stream",
     "text": [
      "0\n",
      "1\n",
      "2\n"
     ]
    }
   ],
   "source": [
    "#for i in range(5):\n",
    "     #print(i)\n",
    "        \n",
    "num_list = [1, 2, 3]\n",
    "\n",
    "#print(len(num_list)) ## outputs 3\n",
    "\n",
    "#for num in num_list:\n",
    "    #print(num)\n",
    "\n",
    "#for i in len(range(num_list)):\n",
    "    #print(i)\n",
    "    \n",
    "for i in range(len(num_list)):\n",
    "    print(i)"
   ]
  },
  {
   "cell_type": "code",
   "execution_count": 16,
   "id": "1a88a6b5",
   "metadata": {},
   "outputs": [
    {
     "name": "stdout",
     "output_type": "stream",
     "text": [
      "['I am a fruit', 'I am a fruit', 'I am a fruit', 'I am a fruit', 'I am a fruit', 'I am a fruit', 'I am a fruit', 'I am a fruit', 'I am a fruit', 'I am a fruit', 'I am a fruit', 'I am a fruit', 'I am a fruit', 'I am a fruit', 'I am a fruit', 'I am a fruit', 'I am a fruit', 'I am a fruit', 'I am a fruit', 'I am a fruit', 'I am a fruit', 'I am a fruit', 'I am a fruit']\n"
     ]
    }
   ],
   "source": [
    "fruit_thoughts = []\n",
    "\n",
    "# for every element in a range of 23\n",
    "for i in range(23):\n",
    "    \n",
    "    # append something to fruit list\n",
    "    fruit_thoughts.append(\"I am a fruit\")\n",
    "    \n",
    "print(fruits)"
   ]
  },
  {
   "cell_type": "code",
   "execution_count": 23,
   "id": "231e0452",
   "metadata": {},
   "outputs": [
    {
     "name": "stdout",
     "output_type": "stream",
     "text": [
      "Mercy  has passed\n",
      "Dennis  has failed\n",
      "Grace  has passed\n",
      "Hanif  has passed\n"
     ]
    }
   ],
   "source": [
    "### check the status of students pass or fail\n",
    "\n",
    "# build a key value dict of student name and pass/fail status\n",
    "students_grades = {'Mercy': \"Pass\", 'Dennis': \"Fail\", 'Grace':\"Pass\", 'Hanif':\"Pass\"}\n",
    "\n",
    "# convert names to a list\n",
    "students = list(students_grades.keys())\n",
    "\n",
    "# for each student in the list\n",
    "for student in students:\n",
    "    # check if they passed\n",
    "    if students_grades[student] == \"Pass\":\n",
    "        print(student,\" has passed\")\n",
    "    # otherwise print failed    \n",
    "    else:\n",
    "        print(student, \" has failed\")"
   ]
  },
  {
   "cell_type": "code",
   "execution_count": 31,
   "id": "343fbc18",
   "metadata": {
    "scrolled": true
   },
   "outputs": [
    {
     "name": "stdout",
     "output_type": "stream",
     "text": [
      "The date is currently 2025-02-10 and it is the afternon\n"
     ]
    }
   ],
   "source": [
    "# concatenation\n",
    "print(\"The date is currently \" + str(current_date) + \" and it is the afternon\")"
   ]
  },
  {
   "cell_type": "code",
   "execution_count": 44,
   "id": "99c9d09b",
   "metadata": {},
   "outputs": [
    {
     "name": "stdout",
     "output_type": "stream",
     "text": [
      "['The time is currently 8am', ' Tomorrow is the 3rd', '']\n"
     ]
    }
   ],
   "source": [
    "# splitting\n",
    "print(\"The time is currently 8am. Tomorrow is the 3rd.\".split('.'))"
   ]
  },
  {
   "cell_type": "code",
   "execution_count": 46,
   "id": "2c0c936b",
   "metadata": {},
   "outputs": [
    {
     "data": {
      "text/plain": [
       "['w', 'o', 'r', 'd']"
      ]
     },
     "execution_count": 46,
     "metadata": {},
     "output_type": "execute_result"
    }
   ],
   "source": [
    "s = \"word\"\n",
    "\n",
    "# list comprehension\n",
    "[char for char in s]"
   ]
  },
  {
   "cell_type": "code",
   "execution_count": 49,
   "id": "470d2705",
   "metadata": {},
   "outputs": [
    {
     "name": "stdout",
     "output_type": "stream",
     "text": [
      "Type in a word:potato\n",
      "Food that was typed: potato\n"
     ]
    }
   ],
   "source": [
    "user_food = input(\"Type in a word:\")\n",
    "\n",
    "user_food\n",
    "\n",
    "\n",
    "print(\"Food that was typed:\", user_food)"
   ]
  },
  {
   "cell_type": "markdown",
   "id": "dcc7dbb0",
   "metadata": {},
   "source": [
    "## Working with Lists\n",
    "Lists in Python are used to store multiple items in a single variable. Lists can hold different types of data, including strings (text), integers (numbers), and more."
   ]
  },
  {
   "cell_type": "code",
   "execution_count": null,
   "id": "9c93ae2d",
   "metadata": {},
   "outputs": [],
   "source": []
  },
  {
   "cell_type": "markdown",
   "id": "89024a97",
   "metadata": {},
   "source": [
    "### Task 1: Create Lists\n",
    "Define three separate lists based on your favorite subjects, numbers, and months.\n",
    "\n",
    "#### Instructions:\n",
    "1. Create a list variable with your three favorite subjects or fields of interest (strings).\n",
    "2. Create a list variable with your three favorite numbers (integers).\n",
    "3. Create a list variable with your three favorite months (strings).\n",
    "4. Print a statement that describes and displays the contents of each list.\n",
    "\n",
    "#### Example:\n",
    "```python\n",
    "# Creating lists\n",
    "subjects = ['neuroscience', 'data science', 'psychology']\n",
    "months = ['August', 'September', 'February']\n",
    "numbers = [7, 8, 9]\n",
    "\n",
    "# Printing list contents\n",
    "echo_text = f\"My favorite subjects are {subjects}. My favorite months are {months}. My favorite numbers are {numbers}.\"\n",
    "print(echo_text)\n",
    "```"
   ]
  },
  {
   "cell_type": "markdown",
   "id": "bcbe0aeb",
   "metadata": {},
   "source": [
    "## Using Loops with Lists\n",
    "Loops allow us to iterate over elements in a list and perform operations on them.\n",
    "\n",
    "### Task 2: Iterate Through Lists\n",
    "Write a loop that goes through each of your lists and prints out their elements in a formatted sentence.\n",
    "\n",
    "#### Instructions:\n",
    "1. Use a `for` loop to iterate through the list elements.\n",
    "2. Print a statement using elements from each list.\n",
    "\n",
    "#### Example:\n",
    "```python\n",
    "for i in range(3):\n",
    "    print(f\"I will study {subjects[i]} in {months[i]} and focus on {numbers[i]} key concepts.\")\n",
    "```"
   ]
  },
  {
   "cell_type": "markdown",
   "id": "123bb6e2",
   "metadata": {},
   "source": []
  },
  {
   "cell_type": "markdown",
   "id": "fb1687e4",
   "metadata": {},
   "source": [
    "### Bonus Task: Appending and Concatenating Lists\n",
    "1. Create an empty list.\n",
    "2. Use a loop to append new items to the list.\n",
    "3. Print the updated list.\n",
    "\n",
    "#### Example:\n",
    "```python\n",
    "# Create an empty list\n",
    "new_list = []\n",
    "\n",
    "# Append items in a loop\n",
    "for i in range(3):\n",
    "    new_list.append(subjects[i] + ' - ' + months[i])\n",
    "\n",
    "# Print final list\n",
    "print(new_list)\n",
    "```"
   ]
  },
  {
   "cell_type": "code",
   "execution_count": null,
   "id": "823d64ac",
   "metadata": {},
   "outputs": [],
   "source": []
  },
  {
   "cell_type": "markdown",
   "id": "6137bd7f",
   "metadata": {},
   "source": [
    "## Additional Resources\n",
    "\n",
    "TReND-CaMinA Course Alumni. (2024). *Black In Neuro Week 2024: Intro to Python for Beginners Workshop*. Available at: https://colab.research.google.com/drive/1Xr11SFdc8HGew6gssZGA_TXMLLxWbYgW?usp=sharing\n"
   ]
  },
  {
   "cell_type": "code",
   "execution_count": null,
   "id": "e0b35e9f",
   "metadata": {},
   "outputs": [],
   "source": []
  }
 ],
 "metadata": {
  "kernelspec": {
   "display_name": "Python 3 (ipykernel)",
   "language": "python",
   "name": "python3"
  },
  "language_info": {
   "codemirror_mode": {
    "name": "ipython",
    "version": 3
   },
   "file_extension": ".py",
   "mimetype": "text/x-python",
   "name": "python",
   "nbconvert_exporter": "python",
   "pygments_lexer": "ipython3",
   "version": "3.10.9"
  }
 },
 "nbformat": 4,
 "nbformat_minor": 5
}
