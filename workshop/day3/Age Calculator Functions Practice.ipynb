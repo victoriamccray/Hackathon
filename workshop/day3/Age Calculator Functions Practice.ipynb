{
 "cells": [
  {
   "cell_type": "markdown",
   "id": "b6c5c6f2",
   "metadata": {},
   "source": [
    "# Functions Practice: Age Calculator\n",
    "\n",
    "## Task  \n",
    "\n",
    "Write a program that:  \n",
    "- Calculates someone's age in days  \n",
    "- Takes user input for birthdate  \n",
    "- Greets the user by name  \n",
    "- Informs them of their age in days  \n",
    "- Uses at least one function  "
   ]
  },
  {
   "cell_type": "code",
   "execution_count": 1,
   "id": "4b7379d1",
   "metadata": {
    "scrolled": true
   },
   "outputs": [
    {
     "name": "stdout",
     "output_type": "stream",
     "text": [
      "Last Updated: 2025-02-24 22:56:56.585681\n"
     ]
    }
   ],
   "source": [
    "import datetime\n",
    "from datetime import datetime\n",
    "print(\"Last Updated:\", str(datetime.today()))"
   ]
  },
  {
   "cell_type": "markdown",
   "id": "cfcba6fa",
   "metadata": {},
   "source": [
    "## Sample Solution"
   ]
  },
  {
   "cell_type": "code",
   "execution_count": 3,
   "id": "3a8a01af",
   "metadata": {},
   "outputs": [],
   "source": [
    "import datetime\n",
    "from datetime import datetime\n",
    "\n",
    "def calc_age_days(birthdate):\n",
    "    '''\n",
    "    calculate age from a provided birthdate in days\n",
    "    argument: birthdate, date\n",
    "    return: age in days, int\n",
    "    dependencies: date formmatted in YYYY/MM/DD\n",
    "    '''\n",
    "    birthdate = datetime.strptime(birthdate, '%Y/%m/%d')\n",
    "\n",
    "    # grab the current date\n",
    "    current_date = datetime.today()\n",
    "\n",
    "    # calculate age in days\n",
    "    age_in_days = (current_date - birthdate).days\n",
    "    return(age_in_days)"
   ]
  },
  {
   "cell_type": "code",
   "execution_count": 6,
   "id": "ad31638e",
   "metadata": {},
   "outputs": [
    {
     "name": "stdout",
     "output_type": "stream",
     "text": [
      "Please enter your name: Grace\n",
      "Please enter your birthday (YYYY/MM/DD): 1997/03/23\n",
      "Hello, Grace! You are approximately 10200 days old.\n"
     ]
    }
   ],
   "source": [
    "# Get user input\n",
    "user_name = input(\"Please enter your name: \")\n",
    "user_bday = input(\"Please enter your birthday (YYYY/MM/DD): \")\n",
    "\n",
    "# Calculate age in days\n",
    "age_days = calc_age_days(user_bday)\n",
    "\n",
    "# Display the result\n",
    "print(f\"Hello, {user_name}! You are approximately {age_days} days old.\")"
   ]
  },
  {
   "cell_type": "markdown",
   "id": "0817ef5a",
   "metadata": {},
   "source": [
    "## Try Modifying\n",
    "Modify the function to:\n",
    "\n",
    "- Accept different date formats (e.g., YYYY-MM-DD)\n",
    "- Calculate age in weeks or months instead of days\n",
    "- Add error handling for invalid date inputs\n",
    "\n",
    "## Additional Resources\n",
    "\n",
    "Datetime library in Python: https://docs.python.org/3/library/datetime.html\n",
    "\n",
    "Datetime tutorials: https://www.geeksforgeeks.org/python-datetime-module/\n",
    "\n",
    "Datetime formats: https://www.w3schools.com/python/python_datetime.asp"
   ]
  },
  {
   "cell_type": "code",
   "execution_count": null,
   "id": "f556f59d",
   "metadata": {},
   "outputs": [],
   "source": []
  }
 ],
 "metadata": {
  "kernelspec": {
   "display_name": "Python 3 (ipykernel)",
   "language": "python",
   "name": "python3"
  },
  "language_info": {
   "codemirror_mode": {
    "name": "ipython",
    "version": 3
   },
   "file_extension": ".py",
   "mimetype": "text/x-python",
   "name": "python",
   "nbconvert_exporter": "python",
   "pygments_lexer": "ipython3",
   "version": "3.10.9"
  }
 },
 "nbformat": 4,
 "nbformat_minor": 5
}
